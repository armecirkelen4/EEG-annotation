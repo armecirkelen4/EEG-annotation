{
 "cells": [
  {
   "cell_type": "code",
   "execution_count": 1,
   "metadata": {
    "collapsed": true
   },
   "outputs": [],
   "source": [
    "import numpy as np\n",
    "import pandas as pd\n",
    "from sklearn.metrics import accuracy_score\n",
    "import torch\n",
    "import torch.nn as nn\n",
    "import torch.optim as optim\n",
    "from torch.autograd import Variable\n",
    "import torch.nn.functional as F\n",
    "import torch.optim as optim\n",
    "from sklearn.preprocessing import StandardScaler"
   ]
  },
  {
   "cell_type": "code",
   "execution_count": 3,
   "metadata": {},
   "outputs": [
    {
     "name": "stdout",
     "output_type": "stream",
     "text": [
      "mean of patient 1: (np.float64(-2.5061664365916747), np.float64(3.2048110636610154))\n",
      "mean of patient 2: (np.float64(-2.2856199344616766), np.float64(3.1704214250154332))\n",
      "mean of patient 3: (np.float64(-2.6244058798465795), np.float64(2.326236025125405))\n",
      "mean of patient 4: (np.float64(-2.9839669159521462), np.float64(3.0033738566092985))\n",
      "mean of patient 5: (np.float64(-2.7180645928577865), np.float64(1.9617189652654394))\n",
      "mean of patient 6: (np.float64(-3.8235823428136357), np.float64(1.5538075585523163))\n",
      "mean of patient 7: (np.float64(-2.17836904765987), np.float64(2.700097334829556))\n",
      "mean of patient 8: (np.float64(-1.9391087092804788), np.float64(4.868952462591622))\n",
      "mean of patient 9: (np.float64(-3.278040789072896), np.float64(2.18437991679923))\n",
      "mean of patient 10: (np.float64(-1.6112388744411374), np.float64(4.696875071895533))\n",
      "size of df: (762880, 19)\n",
      "size of epochs: (2980, 256, 19)\n"
     ]
    }
   ],
   "source": [
    "# load the dataframe from the pickle file\n",
    "import pickle\n",
    "dir = \"C:/Users/gusta/OneDrive/Skrivebord/KI & Data/Bachelor/LegeData\"\n",
    "with open(f\"{dir}/dataframe.pkl\", \"rb\") as f:\n",
    "    df = pickle.load(f)\n",
    "\n",
    "# keep these channels only, these are the indexes: \n",
    "\"\"\" \n",
    "Fp1 -> 0\n",
    "Fp2 -> 33\n",
    "F3  -> 4\n",
    "F4  -> 38\n",
    "C3  -> 12\n",
    "C4  -> 48\n",
    "P3  -> 20\n",
    "P4  -> 55\n",
    "O1  -> 26\n",
    "O2  -> 61\n",
    "F7  -> 6\n",
    "F8  -> 40\n",
    "T7  -> 14\n",
    "T8  -> 50\n",
    "P7  -> 22\n",
    "P8  -> 57\n",
    "Fz  -> 36\n",
    "Cz  -> 46\n",
    "Pz  -> 30 \n",
    "\n",
    "but add 1 to each index, since the first channel is channel_1\n",
    "\"\"\"\n",
    "\n",
    "df = df[[\"channel_1\", \"channel_34\", \"channel_5\", \"channel_39\", \"channel_13\", \"channel_49\", \"channel_21\", \"channel_56\", \"channel_27\", \"channel_62\", \"channel_7\", \"channel_41\", \"channel_15\", \"channel_51\", \"channel_23\", \"channel_58\", \"channel_37\", \"channel_47\", \"channel_31\", \"label\"]]\n",
    "\n",
    "patient_ids = np.repeat([1,2,3,4,5,6,7,8,9,10],76288)  # Make sure to have this aligned with your epochs/labels\n",
    "\n",
    "# Normalize per patient (within training and test sets)\n",
    "data = df.drop(\"label\", axis=1).values\n",
    "data_norm = []\n",
    "for patient_id in np.unique(patient_ids):\n",
    "    patient_data = data[patient_ids == patient_id]\n",
    "    scaler = StandardScaler()\n",
    "    patient_data_scaled = scaler.fit_transform(patient_data)\n",
    "    print(f\"mean of patient {patient_id}: {np.min(patient_data_scaled), np.max(patient_data_scaled)}\")\n",
    "    data_norm.append(patient_data_scaled)\n",
    "\n",
    "data_norm = np.concatenate(data_norm, axis=0)\n",
    "# add labels back\n",
    "y = df[\"label\"].values\n",
    "data = data_norm\n",
    "\n",
    "# make data a dataframe again\n",
    "df = pd.DataFrame(data)\n",
    "print(f\"size of df: {df.shape}\")\n",
    "\n",
    "# split the data into epochs of 256 datapoints each\n",
    "epochs = []\n",
    "for i in range(0, len(df), 256):\n",
    "    epochs.append(df.iloc[i:i+256].values)\n",
    "\n",
    "# convert the list of epochs to a numpy array\n",
    "epochs = np.array(epochs)\n",
    "print(f\"size of epochs: {epochs.shape}\")\n",
    "\n",
    "# save the SCALED epochs\n",
    "with open(f\"{dir}/scaled_rawEEG_epochs.pkl\", \"wb\") as f:\n",
    "    pickle.dump(epochs, f)\n",
    "\n",
    "\n"
   ]
  },
  {
   "cell_type": "code",
   "execution_count": 2,
   "metadata": {},
   "outputs": [
    {
     "name": "stdout",
     "output_type": "stream",
     "text": [
      "size of labels: (2980,)\n"
     ]
    }
   ],
   "source": [
    "labels = []\n",
    "for _ in range(10):\n",
    "    labels.append(np.repeat([1, 0], 149))\n",
    "labels = np.concatenate(labels)\n",
    "\n",
    "print(f\"size of labels: {labels.shape}\")\n"
   ]
  },
  {
   "cell_type": "code",
   "execution_count": null,
   "metadata": {},
   "outputs": [],
   "source": [
    "\n",
    "\n",
    "class EEGNet(nn.Module):\n",
    "    def __init__(self):\n",
    "        super(EEGNet, self).__init__()\n",
    "        self.T = sample_len\n",
    "        self.dropout_rate = 0.1\n",
    "        \n",
    "        # Layer 1\n",
    "        self.conv1 = nn.Conv2d(1, 16, (1, channels), padding = 0)\n",
    "        self.batchnorm1 = nn.BatchNorm2d(16, False)\n",
    "        \n",
    "        # Layer 2\n",
    "        self.padding1 = nn.ZeroPad2d((16, 17, 0, 1))\n",
    "        self.conv2 = nn.Conv2d(1, 4, (2, 32))\n",
    "        self.batchnorm2 = nn.BatchNorm2d(4, False)\n",
    "        self.pooling2 = nn.MaxPool2d(2, 4)\n",
    "        \n",
    "        # Layer 3\n",
    "        self.padding2 = nn.ZeroPad2d((2, 1, 4, 3))\n",
    "        self.conv3 = nn.Conv2d(4, 4, (8, 4))\n",
    "        self.batchnorm3 = nn.BatchNorm2d(4, False)\n",
    "        self.pooling3 = nn.MaxPool2d((2, 4))\n",
    "        \n",
    "        # FC Layer\n",
    "        # NOTE: This dimension will depend on the number of timestamps per sample in your data.\n",
    "        # I have 120 timepoints. \n",
    "        self.fc1 = nn.Linear(8*2 * (sample_len // 32), 1)\n",
    "        \n",
    "\n",
    "    def forward(self, x):\n",
    "        # Layer 1\n",
    "        x = F.elu(self.conv1(x))\n",
    "        x = self.batchnorm1(x)\n",
    "        x = F.dropout(x, self.dropout_rate)\n",
    "        x = x.permute(0, 3, 1, 2)\n",
    "        \n",
    "        # Layer 2\n",
    "        x = self.padding1(x)\n",
    "        x = F.elu(self.conv2(x))\n",
    "        x = self.batchnorm2(x)\n",
    "        x = F.dropout(x, self.dropout_rate)\n",
    "        x = self.pooling2(x)\n",
    "        \n",
    "        # Layer 3\n",
    "        x = self.padding2(x)\n",
    "        x = F.elu(self.conv3(x))\n",
    "        x = self.batchnorm3(x)\n",
    "        x = F.dropout(x, self.dropout_rate)\n",
    "        x = self.pooling3(x)\n",
    "        \n",
    "        # FC Layer\n",
    "        x = x.reshape(-1, 128)\n",
    "        x = F.sigmoid(self.fc1(x))\n",
    "        return x\n",
    "\n"
   ]
  },
  {
   "cell_type": "code",
   "execution_count": 13,
   "metadata": {
    "collapsed": false
   },
   "outputs": [
    {
     "name": "stdout",
     "output_type": "stream",
     "text": [
      "----------------------------------------------------------------\n",
      "        Layer (type)               Output Shape         Param #\n",
      "================================================================\n",
      "            Conv2d-1           [-1, 8, 19, 256]           1,024\n",
      "       BatchNorm2d-2           [-1, 8, 19, 256]              16\n",
      "            Conv2d-3           [-1, 16, 1, 256]             304\n",
      "       BatchNorm2d-4           [-1, 16, 1, 256]              32\n",
      "               ELU-5           [-1, 16, 1, 256]               0\n",
      "         AvgPool2d-6            [-1, 16, 1, 64]               0\n",
      "           Dropout-7            [-1, 16, 1, 64]               0\n",
      "            Conv2d-8            [-1, 16, 1, 64]             256\n",
      "            Conv2d-9            [-1, 16, 1, 64]             256\n",
      "      BatchNorm2d-10            [-1, 16, 1, 64]              32\n",
      "              ELU-11            [-1, 16, 1, 64]               0\n",
      "        AvgPool2d-12            [-1, 16, 1, 16]               0\n",
      "          Dropout-13            [-1, 16, 1, 16]               0\n",
      "           Linear-14                    [-1, 1]             257\n",
      "================================================================\n",
      "Total params: 2,177\n",
      "Trainable params: 2,177\n",
      "Non-trainable params: 0\n",
      "----------------------------------------------------------------\n",
      "Input size (MB): 0.02\n",
      "Forward/backward pass size (MB): 0.74\n",
      "Params size (MB): 0.01\n",
      "Estimated Total Size (MB): 0.77\n",
      "----------------------------------------------------------------\n",
      "tensor([[0.4287],\n",
      "        [0.5077],\n",
      "        [0.4991],\n",
      "        [0.5150],\n",
      "        [0.4994],\n",
      "        [0.5017],\n",
      "        [0.5003],\n",
      "        [0.4987],\n",
      "        [0.4968],\n",
      "        [0.5008],\n",
      "        [0.5028],\n",
      "        [0.4995],\n",
      "        [0.5047],\n",
      "        [0.5068],\n",
      "        [0.4950],\n",
      "        [0.4899]], grad_fn=<SigmoidBackward0>)\n"
     ]
    },
    {
     "name": "stderr",
     "output_type": "stream",
     "text": [
      "C:\\Users\\gusta\\AppData\\Local\\Temp\\ipykernel_3352\\3272494471.py:73: FutureWarning: `nn.init.xavier_uniform` is now deprecated in favor of `nn.init.xavier_uniform_`.\n",
      "  torch.nn.init.xavier_uniform(m.weight)\n"
     ]
    },
    {
     "data": {
      "text/plain": [
       "EEGNetModel(\n",
       "  (block1): Sequential(\n",
       "    (0): Conv2d(1, 8, kernel_size=(1, 128), stride=(1, 1), padding=same, bias=False)\n",
       "    (1): BatchNorm2d(8, eps=1e-05, momentum=0.1, affine=True, track_running_stats=True)\n",
       "  )\n",
       "  (block2): Sequential(\n",
       "    (0): Conv2d(8, 16, kernel_size=(19, 1), stride=(1, 1), groups=8, bias=False)\n",
       "    (1): BatchNorm2d(16, eps=1e-05, momentum=0.1, affine=True, track_running_stats=True)\n",
       "    (2): ELU(alpha=1.0)\n",
       "    (3): AvgPool2d(kernel_size=(1, 4), stride=(1, 4), padding=0)\n",
       "    (4): Dropout(p=0.25, inplace=False)\n",
       "  )\n",
       "  (block3): Sequential(\n",
       "    (0): Conv2d(16, 16, kernel_size=(1, 16), stride=(1, 1), padding=same, groups=16, bias=False)\n",
       "    (1): Conv2d(16, 16, kernel_size=(1, 1), stride=(1, 1), bias=False)\n",
       "    (2): BatchNorm2d(16, eps=1e-05, momentum=0.1, affine=True, track_running_stats=True)\n",
       "    (3): ELU(alpha=1.0)\n",
       "    (4): AvgPool2d(kernel_size=(1, 4), stride=(1, 4), padding=0)\n",
       "    (5): Dropout(p=0.25, inplace=False)\n",
       "  )\n",
       "  (fc): Linear(in_features=256, out_features=1, bias=True)\n",
       ")"
      ]
     },
     "execution_count": 13,
     "metadata": {},
     "output_type": "execute_result"
    }
   ],
   "source": [
    "class EEGNetModel(nn.Module):  # EEGNET-8,2\n",
    "    def __init__(self, chans=19, classes=1, time_points=256, temp_kernel=128,\n",
    "                 f1=8, f2=16, d=2, pk1=4, pk2=4, dropout_rate=0.25, max_norm1=1, max_norm2=0.25):\n",
    "        super(EEGNetModel, self).__init__()\n",
    "\n",
    "\n",
    "        # Temporal Filters\n",
    "        self.block1 = nn.Sequential(\n",
    "            nn.Conv2d(1, f1, (1, temp_kernel), padding='same', bias=False),  # Temporal Conv\n",
    "            nn.BatchNorm2d(f1),\n",
    "        )\n",
    "        # Spatial Filters\n",
    "        self.block2 = nn.Sequential(\n",
    "            nn.Conv2d(f1, d * f1, (chans, 1), groups=f1, bias=False),  # Depthwise Conv\n",
    "            nn.BatchNorm2d(d * f1),\n",
    "            nn.ELU(),\n",
    "            nn.AvgPool2d((1, pk1)),  # Pool over time dimension\n",
    "            nn.Dropout(dropout_rate)\n",
    "        )\n",
    "        # Separable Convolution\n",
    "        self.block3 = nn.Sequential(\n",
    "            nn.Conv2d(d * f1, f2, (1, 16), padding='same', bias=False, groups=f2),  # Separable Conv\n",
    "            nn.Conv2d(f2, f2, kernel_size=1, bias=False),  # Pointwise Conv\n",
    "            nn.BatchNorm2d(f2),\n",
    "            nn.ELU(),\n",
    "            nn.AvgPool2d((1, pk2)),  # Pool over time dimension\n",
    "            nn.Dropout(dropout_rate)\n",
    "        )\n",
    "        \n",
    "\n",
    "        # Fully Connected\n",
    "        self.fc = nn.Linear(16 * ( time_points // 16 ), classes)\n",
    "\n",
    "        # Apply max_norm constraint to the depthwise layer in block2\n",
    "        self._apply_max_norm(self.block2[0], max_norm1)\n",
    "\n",
    "    def _apply_max_norm(self, layer, max_norm):\n",
    "        for name, param in layer.named_parameters():\n",
    "            if 'weight' in name:\n",
    "                param.data = torch.renorm(param.data, p=2, dim=0, maxnorm=max_norm)\n",
    "\n",
    "    def forward(self, x):\n",
    "        # Input x is (batch_size,1, num_channels, num_timepoints)\n",
    "\n",
    "        x = self.block1(x)\n",
    "        x = self.block2(x)\n",
    "        x = self.block3(x)\n",
    "        x = x.view(x.size(0), -1)\n",
    "        x = self.fc(x)\n",
    "        x = torch.sigmoid(x)\n",
    "        return x\n",
    "\n",
    "\n",
    "# Adjust input size to (19x256)\n",
    "sample_len = 256  # Your time points\n",
    "channels = 19     # Your number of channels\n",
    "\n",
    "# summary\n",
    "from torchsummary import summary\n",
    "\n",
    "model = EEGNetModel(chans=channels, time_points=sample_len)\n",
    "summary(model, (1, 19, 256))\n",
    "\n",
    "\n",
    "print(model.forward(Variable(torch.Tensor(16, 1, 19, 256))))\n",
    "criterion = nn.BCELoss()\n",
    "optimizer = optim.Adam(model.parameters(), lr=0.0001)\n",
    "\n",
    "# apply Xavier weight initialization\n",
    "def init_weights(m):\n",
    "    if type(m) == nn.Conv2d:\n",
    "        torch.nn.init.xavier_uniform(m.weight)\n",
    "model.apply(init_weights)\n",
    "\n",
    "\n",
    "\n"
   ]
  },
  {
   "cell_type": "code",
   "execution_count": 5,
   "metadata": {},
   "outputs": [],
   "source": [
    "# open the scaled epochs\n",
    "import pickle\n",
    "import pandas as pd\n",
    "dir = \"C:/Users/gusta/OneDrive/Skrivebord/KI & Data/Bachelor/LegeData\"\n",
    "\n",
    "\n",
    "with open(f\"{dir}/scaled_rawEEG_epochs.pkl\", \"rb\") as f:\n",
    "    epochs = pickle.load(f)\n",
    "\n",
    "\n"
   ]
  },
  {
   "cell_type": "markdown",
   "metadata": {},
   "source": [
    "Evaluate function\n"
   ]
  },
  {
   "cell_type": "code",
   "execution_count": 14,
   "metadata": {
    "collapsed": true
   },
   "outputs": [],
   "source": [
    "import torch\n",
    "from torch.autograd import Variable\n",
    "import numpy as np\n",
    "from sklearn.metrics import accuracy_score\n",
    "\n",
    "# open the scaled epochs\n",
    "with open(f\"{dir}/scaled_rawEEG_epochs.pkl\", \"rb\") as f:\n",
    "    epochs = pickle.load(f)\n",
    "\n",
    "# Define simple evaluation function\n",
    "def evaluate(model, dataloader, sample_len, channels):\n",
    "    model.eval()\n",
    "    model_predictions = []\n",
    "    true_labels = []\n",
    "\n",
    "    for _, (data, target) in enumerate(dataloader):\n",
    "\n",
    "      inputs, targets = data , target\n",
    "      inputs = inputs.unsqueeze(1)\n",
    "\n",
    "      data = Variable((inputs))\n",
    "      target = Variable((targets))\n",
    "      \n",
    "      output = model(data).squeeze()\n",
    "\n",
    "      model_predictions.extend(output.detach().numpy())\n",
    "      true_labels.extend(target.detach().numpy())\n",
    "\n",
    "    all_predictions = np.array(model_predictions) > 0.5\n",
    "    all_targets = np.array(true_labels)\n",
    "\n",
    "\n",
    "\n",
    "    accuracy = accuracy_score(all_targets, all_predictions)\n",
    "    return accuracy"
   ]
  },
  {
   "cell_type": "code",
   "execution_count": 15,
   "metadata": {},
   "outputs": [
    {
     "name": "stdout",
     "output_type": "stream",
     "text": [
      "torch.Size([16, 19, 256])\n"
     ]
    }
   ],
   "source": [
    "from torch.utils.data import DataLoader, Dataset\n",
    "\n",
    "# Dataset class definition\n",
    "class EEGDataset(Dataset):\n",
    "    def __init__(self, epochs, labels):\n",
    "        self.df = epochs\n",
    "        self.labels = labels\n",
    "\n",
    "    def __len__(self):\n",
    "        return len(self.df)\n",
    "\n",
    "    def __getitem__(self, idx):\n",
    "        # Access the epoch and corresponding label\n",
    "        data = self.df[idx]  # data shape: (256, 19)\n",
    "        data = data.T  # shape: (19, 256)\n",
    "        label = self.labels[idx]  # label shape: (1)\n",
    "        \n",
    "        # Ensure the data is converted to float tensor\n",
    "        data_tensor = torch.tensor(data, dtype=torch.float32)\n",
    "        \n",
    "        # Convert label to tensor (assumed to be scalar)\n",
    "        label_tensor = torch.tensor(label, dtype=torch.float32) \n",
    "        \n",
    "        return data_tensor, label_tensor\n",
    "\n",
    "# Create EEGDataset object and print a batch of 16 samples\n",
    "dataset = EEGDataset(epochs, labels)\n",
    "dataloader = DataLoader(dataset, batch_size=16, shuffle=True)\n",
    "\n",
    "print(next(iter(dataloader))[0].shape)\n",
    "\n"
   ]
  },
  {
   "cell_type": "markdown",
   "metadata": {},
   "source": [
    "# Homemade small CNN 2,033 parameters\n"
   ]
  },
  {
   "cell_type": "code",
   "execution_count": 74,
   "metadata": {},
   "outputs": [
    {
     "name": "stdout",
     "output_type": "stream",
     "text": [
      "----------------------------------------------------------------\n",
      "        Layer (type)               Output Shape         Param #\n",
      "================================================================\n",
      "            Conv2d-1          [-1, 16, 19, 257]           1,040\n",
      "       BatchNorm2d-2          [-1, 16, 19, 257]              32\n",
      "         AvgPool2d-3           [-1, 16, 19, 64]               0\n",
      "           Dropout-4           [-1, 16, 19, 64]               0\n",
      "            Conv2d-5            [-1, 32, 1, 64]             640\n",
      "       BatchNorm2d-6            [-1, 32, 1, 64]              64\n",
      "         AvgPool2d-7             [-1, 32, 1, 8]               0\n",
      "           Dropout-8             [-1, 32, 1, 8]               0\n",
      "            Linear-9                    [-1, 1]             257\n",
      "================================================================\n",
      "Total params: 2,033\n",
      "Trainable params: 2,033\n",
      "Non-trainable params: 0\n",
      "----------------------------------------------------------------\n",
      "Input size (MB): 0.02\n",
      "Forward/backward pass size (MB): 1.52\n",
      "Params size (MB): 0.01\n",
      "Estimated Total Size (MB): 1.55\n",
      "----------------------------------------------------------------\n"
     ]
    }
   ],
   "source": [
    "import torch\n",
    "import torch.nn as nn\n",
    "import torch.nn.functional as F\n",
    "\n",
    "class EEGClassifier(nn.Module):\n",
    "    def __init__(self, num_channels=19, num_timepoints=256):\n",
    "        super(EEGClassifier, self).__init__()\n",
    "\n",
    "        # 1st Conv Layer\n",
    "        self.conv1 = nn.Conv2d(in_channels=1, out_channels=16, kernel_size=(1, 64), stride=(1, 1), padding=(0, 32))  # Conv over time\n",
    "        self.bn1 = nn.BatchNorm2d(16)  # Batch normalization after convolution\n",
    "        self.pool1 = nn.AvgPool2d(kernel_size=(1, 4))  # Pooling over time dimension\n",
    "        self.drop1 = nn.Dropout(0.25)  # Dropout after first block\n",
    "\n",
    "        # 2nd Conv Layer (Depthwise Separable Convolution)\n",
    "        self.conv2 = nn.Conv2d(in_channels=16, out_channels=32, kernel_size=(num_channels, 1), groups=16)  # Depthwise over channels\n",
    "        self.bn2 = nn.BatchNorm2d(32)\n",
    "        self.pool2 = nn.AvgPool2d(kernel_size=(1, 8))\n",
    "        self.drop2 = nn.Dropout(0.25)\n",
    "\n",
    "        # Fully Connected Layer for classification (sigmoid for binary classification)\n",
    "        self.fc = nn.Linear(32 * (num_timepoints // 32), 1)  # Output 1 neuron for binary classification\n",
    "\n",
    "    def forward(self, x):\n",
    "        # Input x is (batch_size, num_channels, num_timepoints)\n",
    "        x = x.unsqueeze(1)  # Add a channel dimension: (batch_size, 1, num_channels, num_timepoints)\n",
    "\n",
    "        # 1st Conv Block\n",
    "        x = F.relu(self.bn1(self.conv1(x)))\n",
    "        x = self.pool1(x)\n",
    "        x = self.drop1(x)\n",
    "\n",
    "        # 2nd Conv Block\n",
    "        x = F.relu(self.bn2(self.conv2(x)))\n",
    "        x = self.pool2(x)\n",
    "        x = self.drop2(x)\n",
    "\n",
    "        # Flatten for fully connected layer\n",
    "        x = x.view(x.size(0), -1)\n",
    "\n",
    "        # Fully Connected Layer with sigmoid activation for binary classification\n",
    "        x = torch.sigmoid(self.fc(x))\n",
    "        return x\n",
    "\n",
    "# Initialize the model\n",
    "model = EEGClassifier(num_channels=19, num_timepoints=256)\n",
    "\n",
    "# Define the loss function and optimizer\n",
    "criterion = nn.BCELoss()\n",
    "optimizer = torch.optim.Adam(model.parameters(), lr=1e-3)\n",
    "\n",
    "# explore model size and trainable parameters\n",
    "from torchsummary import summary\n",
    "summary(model, (19, 256))\n",
    "\n",
    "\n"
   ]
  },
  {
   "cell_type": "markdown",
   "metadata": {},
   "source": [
    "# Slightly bigger CNN 204,737 parameters"
   ]
  },
  {
   "cell_type": "code",
   "execution_count": 67,
   "metadata": {},
   "outputs": [
    {
     "name": "stdout",
     "output_type": "stream",
     "text": [
      "----------------------------------------------------------------\n",
      "        Layer (type)               Output Shape         Param #\n",
      "================================================================\n",
      "            Conv2d-1          [-1, 64, 19, 257]           4,160\n",
      "       BatchNorm2d-2          [-1, 64, 19, 257]             128\n",
      "         AvgPool2d-3           [-1, 64, 19, 64]               0\n",
      "           Dropout-4           [-1, 64, 19, 64]               0\n",
      "            Conv2d-5           [-1, 128, 1, 64]           2,560\n",
      "       BatchNorm2d-6           [-1, 128, 1, 64]             256\n",
      "         AvgPool2d-7            [-1, 128, 1, 8]               0\n",
      "           Dropout-8            [-1, 128, 1, 8]               0\n",
      "            Conv2d-9            [-1, 256, 1, 9]         131,328\n",
      "      BatchNorm2d-10            [-1, 256, 1, 9]             512\n",
      "        AvgPool2d-11            [-1, 256, 1, 2]               0\n",
      "          Dropout-12            [-1, 256, 1, 2]               0\n",
      "           Linear-13                  [-1, 128]          65,664\n",
      "           Linear-14                    [-1, 1]             129\n",
      "================================================================\n",
      "Total params: 204,737\n",
      "Trainable params: 204,737\n",
      "Non-trainable params: 0\n",
      "----------------------------------------------------------------\n",
      "Input size (MB): 0.02\n",
      "Forward/backward pass size (MB): 6.14\n",
      "Params size (MB): 0.78\n",
      "Estimated Total Size (MB): 6.94\n",
      "----------------------------------------------------------------\n"
     ]
    }
   ],
   "source": [
    "import torch\n",
    "import torch.nn as nn\n",
    "import torch.nn.functional as F\n",
    "\n",
    "class LargeEEGClassifier(nn.Module):\n",
    "    def __init__(self, num_channels=19, num_timepoints=256):\n",
    "        super(LargeEEGClassifier, self).__init__()\n",
    "\n",
    "        # 1st Conv Layer: more filters and wider kernel\n",
    "        self.conv1 = nn.Conv2d(in_channels=1, out_channels=64, kernel_size=(1, 64), stride=(1, 1), padding=(0, 32))  # Conv over time\n",
    "        self.bn1 = nn.BatchNorm2d(64)\n",
    "        self.pool1 = nn.AvgPool2d(kernel_size=(1, 4))\n",
    "        self.drop1 = nn.Dropout(0.25)\n",
    "\n",
    "        # 2nd Conv Layer: more filters\n",
    "        self.conv2 = nn.Conv2d(in_channels=64, out_channels=128, kernel_size=(num_channels, 1), groups=64)  # Depthwise over channels\n",
    "        self.bn2 = nn.BatchNorm2d(128)\n",
    "        self.pool2 = nn.AvgPool2d(kernel_size=(1, 8))\n",
    "        self.drop2 = nn.Dropout(0.25)\n",
    "\n",
    "        # 3rd Conv Layer: additional layer to increase complexity\n",
    "        self.conv3 = nn.Conv2d(in_channels=128, out_channels=256, kernel_size=(1, 4), padding=(0, 2))\n",
    "        self.bn3 = nn.BatchNorm2d(256)\n",
    "        self.pool3 = nn.AvgPool2d(kernel_size=(1, 4))\n",
    "        self.drop3 = nn.Dropout(0.25)\n",
    "\n",
    "        # Fully Connected Layer for classification\n",
    "        self.fc1 = nn.Linear(256 * (num_timepoints // 128), 128)  # First fully connected layer\n",
    "        self.fc2 = nn.Linear(128, 1)  # Second fully connected layer for binary classification\n",
    "\n",
    "    def forward(self, x):\n",
    "        # Input x is (batch_size, num_channels, num_timepoints)\n",
    "        x = x.unsqueeze(1)  # Add a channel dimension: (batch_size, 1, num_channels, num_timepoints)\n",
    "\n",
    "        # 1st Conv Block\n",
    "        x = F.relu(self.bn1(self.conv1(x)))\n",
    "        x = self.pool1(x)\n",
    "        x = self.drop1(x)\n",
    "\n",
    "        # 2nd Conv Block\n",
    "        x = F.relu(self.bn2(self.conv2(x)))\n",
    "        x = self.pool2(x)\n",
    "        x = self.drop2(x)\n",
    "\n",
    "        # 3rd Conv Block\n",
    "        x = F.relu(self.bn3(self.conv3(x)))\n",
    "        x = self.pool3(x)\n",
    "        x = self.drop3(x)\n",
    "\n",
    "        # Flatten for fully connected layer\n",
    "        x = x.view(x.size(0), -1)\n",
    "\n",
    "        # Fully Connected Layers\n",
    "        x = F.relu(self.fc1(x))\n",
    "        x = torch.sigmoid(self.fc2(x))  # Sigmoid for binary classification\n",
    "        return x\n",
    "\n",
    "# Initialize the model\n",
    "model = LargeEEGClassifier(num_channels=19, num_timepoints=256)\n",
    "\n",
    "# Define the loss function and optimizer\n",
    "criterion = nn.BCELoss()\n",
    "optimizer = torch.optim.Adam(model.parameters(), lr=1e-3)\n",
    "\n",
    "# Explore model size and trainable parameters\n",
    "summary(model, (19, 256))\n"
   ]
  },
  {
   "cell_type": "markdown",
   "metadata": {},
   "source": [
    "#### Training and evaluation loop"
   ]
  },
  {
   "cell_type": "code",
   "execution_count": 17,
   "metadata": {
    "collapsed": false
   },
   "outputs": [
    {
     "name": "stderr",
     "output_type": "stream",
     "text": [
      "  0%|          | 0/50 [00:00<?, ?it/s]"
     ]
    },
    {
     "name": "stdout",
     "output_type": "stream",
     "text": [
      "Epoch 1\n"
     ]
    },
    {
     "name": "stderr",
     "output_type": "stream",
     "text": [
      "  2%|▏         | 1/50 [00:31<25:51, 31.66s/it]"
     ]
    },
    {
     "name": "stdout",
     "output_type": "stream",
     "text": [
      "Epoch 1, Validation Accuracy: 95.63758389261746\n",
      "Training Loss: 0.4083, Validation Loss: 0.2137\n",
      "Epoch 2\n"
     ]
    },
    {
     "name": "stderr",
     "output_type": "stream",
     "text": [
      "  4%|▍         | 2/50 [01:01<24:29, 30.61s/it]"
     ]
    },
    {
     "name": "stdout",
     "output_type": "stream",
     "text": [
      "Epoch 2, Validation Accuracy: 90.60402684563758\n",
      "Training Loss: 0.4130, Validation Loss: 0.2407\n",
      "Epoch 3\n"
     ]
    },
    {
     "name": "stderr",
     "output_type": "stream",
     "text": [
      "  6%|▌         | 3/50 [01:32<23:58, 30.61s/it]"
     ]
    },
    {
     "name": "stdout",
     "output_type": "stream",
     "text": [
      "Epoch 3, Validation Accuracy: 99.32885906040268\n",
      "Training Loss: 0.4000, Validation Loss: 0.1487\n",
      "Epoch 4\n"
     ]
    },
    {
     "name": "stderr",
     "output_type": "stream",
     "text": [
      "  8%|▊         | 4/50 [02:12<26:19, 34.34s/it]"
     ]
    },
    {
     "name": "stdout",
     "output_type": "stream",
     "text": [
      "Epoch 4, Validation Accuracy: 98.99328859060402\n",
      "Training Loss: 0.3950, Validation Loss: 0.1713\n",
      "Epoch 5\n"
     ]
    },
    {
     "name": "stderr",
     "output_type": "stream",
     "text": [
      " 10%|█         | 5/50 [02:43<24:56, 33.26s/it]"
     ]
    },
    {
     "name": "stdout",
     "output_type": "stream",
     "text": [
      "Epoch 5, Validation Accuracy: 98.65771812080537\n",
      "Training Loss: 0.3912, Validation Loss: 0.1728\n",
      "Epoch 6\n"
     ]
    },
    {
     "name": "stderr",
     "output_type": "stream",
     "text": [
      " 12%|█▏        | 6/50 [03:15<23:57, 32.66s/it]"
     ]
    },
    {
     "name": "stdout",
     "output_type": "stream",
     "text": [
      "Epoch 6, Validation Accuracy: 100.0\n",
      "Training Loss: 0.3858, Validation Loss: 0.1599\n",
      "Epoch 7\n"
     ]
    },
    {
     "name": "stderr",
     "output_type": "stream",
     "text": [
      " 14%|█▍        | 7/50 [03:46<23:07, 32.27s/it]"
     ]
    },
    {
     "name": "stdout",
     "output_type": "stream",
     "text": [
      "Epoch 7, Validation Accuracy: 100.0\n",
      "Training Loss: 0.3820, Validation Loss: 0.1552\n",
      "Epoch 8\n"
     ]
    },
    {
     "name": "stderr",
     "output_type": "stream",
     "text": [
      " 16%|█▌        | 8/50 [04:19<22:44, 32.49s/it]"
     ]
    },
    {
     "name": "stdout",
     "output_type": "stream",
     "text": [
      "Epoch 8, Validation Accuracy: 97.6510067114094\n",
      "Training Loss: 0.3928, Validation Loss: 0.1874\n",
      "Epoch 9\n"
     ]
    },
    {
     "name": "stderr",
     "output_type": "stream",
     "text": [
      " 18%|█▊        | 9/50 [04:54<22:40, 33.19s/it]"
     ]
    },
    {
     "name": "stdout",
     "output_type": "stream",
     "text": [
      "Epoch 9, Validation Accuracy: 97.6510067114094\n",
      "Training Loss: 0.3844, Validation Loss: 0.1869\n",
      "Epoch 10\n"
     ]
    },
    {
     "name": "stderr",
     "output_type": "stream",
     "text": [
      " 20%|██        | 10/50 [05:25<21:42, 32.57s/it]"
     ]
    },
    {
     "name": "stdout",
     "output_type": "stream",
     "text": [
      "Epoch 10, Validation Accuracy: 91.94630872483222\n",
      "Training Loss: 0.3837, Validation Loss: 0.2324\n",
      "Epoch 11\n"
     ]
    },
    {
     "name": "stderr",
     "output_type": "stream",
     "text": [
      " 22%|██▏       | 11/50 [05:57<21:03, 32.39s/it]"
     ]
    },
    {
     "name": "stdout",
     "output_type": "stream",
     "text": [
      "Epoch 11, Validation Accuracy: 95.30201342281879\n",
      "Training Loss: 0.3764, Validation Loss: 0.2074\n",
      "Epoch 12\n"
     ]
    },
    {
     "name": "stderr",
     "output_type": "stream",
     "text": [
      " 24%|██▍       | 12/50 [06:33<21:13, 33.52s/it]"
     ]
    },
    {
     "name": "stdout",
     "output_type": "stream",
     "text": [
      "Epoch 12, Validation Accuracy: 97.31543624161074\n",
      "Training Loss: 0.3760, Validation Loss: 0.1934\n",
      "Epoch 13\n"
     ]
    },
    {
     "name": "stderr",
     "output_type": "stream",
     "text": [
      " 26%|██▌       | 13/50 [07:04<20:14, 32.84s/it]"
     ]
    },
    {
     "name": "stdout",
     "output_type": "stream",
     "text": [
      "Epoch 13, Validation Accuracy: 97.98657718120805\n",
      "Training Loss: 0.3720, Validation Loss: 0.1773\n",
      "Epoch 14\n"
     ]
    },
    {
     "name": "stderr",
     "output_type": "stream",
     "text": [
      " 28%|██▊       | 14/50 [07:36<19:25, 32.38s/it]"
     ]
    },
    {
     "name": "stdout",
     "output_type": "stream",
     "text": [
      "Epoch 14, Validation Accuracy: 96.97986577181209\n",
      "Training Loss: 0.3784, Validation Loss: 0.1446\n",
      "Epoch 15\n"
     ]
    },
    {
     "name": "stderr",
     "output_type": "stream",
     "text": [
      " 30%|███       | 15/50 [08:07<18:48, 32.24s/it]"
     ]
    },
    {
     "name": "stdout",
     "output_type": "stream",
     "text": [
      "Epoch 15, Validation Accuracy: 99.32885906040268\n",
      "Training Loss: 0.3791, Validation Loss: 0.1541\n",
      "Epoch 16\n"
     ]
    },
    {
     "name": "stderr",
     "output_type": "stream",
     "text": [
      " 32%|███▏      | 16/50 [08:42<18:36, 32.85s/it]"
     ]
    },
    {
     "name": "stdout",
     "output_type": "stream",
     "text": [
      "Epoch 16, Validation Accuracy: 98.32214765100672\n",
      "Training Loss: 0.3780, Validation Loss: 0.1637\n",
      "Epoch 17\n"
     ]
    },
    {
     "name": "stderr",
     "output_type": "stream",
     "text": [
      " 34%|███▍      | 17/50 [09:14<17:56, 32.61s/it]"
     ]
    },
    {
     "name": "stdout",
     "output_type": "stream",
     "text": [
      "Epoch 17, Validation Accuracy: 97.98657718120805\n",
      "Training Loss: 0.3743, Validation Loss: 0.1655\n",
      "Epoch 18\n"
     ]
    },
    {
     "name": "stderr",
     "output_type": "stream",
     "text": [
      " 36%|███▌      | 18/50 [09:46<17:24, 32.63s/it]"
     ]
    },
    {
     "name": "stdout",
     "output_type": "stream",
     "text": [
      "Epoch 18, Validation Accuracy: 100.0\n",
      "Training Loss: 0.3658, Validation Loss: 0.1379\n",
      "Epoch 19\n"
     ]
    },
    {
     "name": "stderr",
     "output_type": "stream",
     "text": [
      " 38%|███▊      | 19/50 [10:20<17:04, 33.04s/it]"
     ]
    },
    {
     "name": "stdout",
     "output_type": "stream",
     "text": [
      "Epoch 19, Validation Accuracy: 96.64429530201342\n",
      "Training Loss: 0.3588, Validation Loss: 0.1270\n",
      "Epoch 20\n"
     ]
    },
    {
     "name": "stderr",
     "output_type": "stream",
     "text": [
      " 40%|████      | 20/50 [10:53<16:26, 32.88s/it]"
     ]
    },
    {
     "name": "stdout",
     "output_type": "stream",
     "text": [
      "Epoch 20, Validation Accuracy: 96.64429530201342\n",
      "Training Loss: 0.3551, Validation Loss: 0.1827\n",
      "Epoch 21\n"
     ]
    },
    {
     "name": "stderr",
     "output_type": "stream",
     "text": [
      " 42%|████▏     | 21/50 [11:25<15:45, 32.61s/it]"
     ]
    },
    {
     "name": "stdout",
     "output_type": "stream",
     "text": [
      "Epoch 21, Validation Accuracy: 86.91275167785236\n",
      "Training Loss: 0.3528, Validation Loss: 0.2834\n",
      "Epoch 22\n"
     ]
    },
    {
     "name": "stderr",
     "output_type": "stream",
     "text": [
      " 44%|████▍     | 22/50 [12:05<16:14, 34.81s/it]"
     ]
    },
    {
     "name": "stdout",
     "output_type": "stream",
     "text": [
      "Epoch 22, Validation Accuracy: 100.0\n",
      "Training Loss: 0.3524, Validation Loss: 0.1445\n",
      "Epoch 23\n"
     ]
    },
    {
     "name": "stderr",
     "output_type": "stream",
     "text": [
      " 46%|████▌     | 23/50 [12:38<15:27, 34.35s/it]"
     ]
    },
    {
     "name": "stdout",
     "output_type": "stream",
     "text": [
      "Epoch 23, Validation Accuracy: 100.0\n",
      "Training Loss: 0.3493, Validation Loss: 0.1331\n",
      "Epoch 24\n"
     ]
    },
    {
     "name": "stderr",
     "output_type": "stream",
     "text": [
      " 48%|████▊     | 24/50 [13:09<14:28, 33.41s/it]"
     ]
    },
    {
     "name": "stdout",
     "output_type": "stream",
     "text": [
      "Epoch 24, Validation Accuracy: 100.0\n",
      "Training Loss: 0.3502, Validation Loss: 0.1315\n",
      "Epoch 25\n"
     ]
    },
    {
     "name": "stderr",
     "output_type": "stream",
     "text": [
      " 50%|█████     | 25/50 [13:40<13:36, 32.67s/it]"
     ]
    },
    {
     "name": "stdout",
     "output_type": "stream",
     "text": [
      "Epoch 25, Validation Accuracy: 93.95973154362416\n",
      "Training Loss: 0.3478, Validation Loss: 0.1912\n",
      "Epoch 26\n"
     ]
    },
    {
     "name": "stderr",
     "output_type": "stream",
     "text": [
      " 50%|█████     | 25/50 [14:12<14:12, 34.09s/it]"
     ]
    },
    {
     "name": "stdout",
     "output_type": "stream",
     "text": [
      "Epoch 26, Validation Accuracy: 94.29530201342281\n",
      "Training Loss: 0.3371, Validation Loss: 0.1291\n",
      "Early stopping at epoch 26\n"
     ]
    },
    {
     "name": "stderr",
     "output_type": "stream",
     "text": [
      "\n"
     ]
    }
   ],
   "source": [
    "from sklearn.model_selection import LeaveOneGroupOut\n",
    "from tqdm import tqdm\n",
    "import torch\n",
    "from torch.autograd import Variable\n",
    "import numpy as np\n",
    "\n",
    "# define random seed\n",
    "torch.manual_seed(42)\n",
    "\n",
    "batch_size = 16\n",
    "num_epochs = 50\n",
    "patience = 20  # Stop if no improvement after 20 epochs\n",
    "best_val_acc = 0.0  # Track the best validation accuracy\n",
    "no_improvement_epochs = 0  # Track how many epochs without improvement\n",
    "\n",
    "# Lists to store loss values for plotting later\n",
    "train_loss_history = []\n",
    "val_loss_history = []\n",
    "\n",
    "# Initialize Leave-One-Group-Out cross-validator\n",
    "logo = LeaveOneGroupOut()\n",
    "\n",
    "# Ensure patient_ids has the same length as epochs and labels\n",
    "patient_ids = np.repeat([1, 2, 3, 4, 5, 6, 7, 8, 9, 10], len(epochs) // 10)  # Adjust the length accordingly\n",
    "\n",
    "for epoch in tqdm(range(num_epochs)):  # Loop over the number of epochs\n",
    "    print(f\"Epoch {epoch+1}\")\n",
    "    running_loss = []\n",
    "    running_val_loss = []\n",
    "\n",
    "    for train_index, test_index in logo.split(epochs, labels, groups=patient_ids):\n",
    "        # Training loop\n",
    "        model.train()\n",
    "\n",
    "        # Train and test split\n",
    "        X_train, X_val = epochs[train_index, :, :], epochs[test_index, :, :]\n",
    "        y_train, y_val = labels[train_index], labels[test_index]\n",
    "        \n",
    "        # Create DataLoader for training and testing\n",
    "        train_dataset = EEGDataset(X_train, y_train)\n",
    "        train_loader = DataLoader(train_dataset, batch_size=batch_size, shuffle=True)\n",
    "\n",
    "        val_dataset = EEGDataset(X_val, y_val)\n",
    "        val_loader = DataLoader(val_dataset, batch_size=batch_size, shuffle=False)\n",
    "        \n",
    "        # Training\n",
    "        for i, data in enumerate(train_loader, 0):\n",
    "            # Get the inputs; data is a list of [inputs, labels/targets]\n",
    "            inputs, targets = data\n",
    "\n",
    "            # Convert inputs and targets to variables\n",
    "            inputs, targets = Variable(inputs), Variable(targets)\n",
    "\n",
    "            # check if the input shape is correct\n",
    "            inputs = inputs.unsqueeze(1)  # Add a channel dimension if needed\n",
    "            # print(f\"input shape: {inputs.shape}\")\n",
    "\n",
    "            # Zero the parameter gradients\n",
    "            optimizer.zero_grad()\n",
    "\n",
    "            # Forward pass\n",
    "            outputs = model(inputs)\n",
    "            targets = targets.unsqueeze(1)  # Ensure targets have the same shape as outputs\n",
    "            loss = criterion(outputs, targets)\n",
    "            \n",
    "            # Backward pass and optimization\n",
    "            loss.backward()\n",
    "            # for name, param in model.named_parameters():\n",
    "            #     if param.grad is not None:\n",
    "            #         print(f\"Gradients for {name}: {param.grad.abs().mean()}\")\n",
    "\n",
    "            optimizer.step()\n",
    "\n",
    "            running_loss.append(loss.item())\n",
    "\n",
    "    # Validation Loop\n",
    "    model.eval()\n",
    "    val_loss = 0.0\n",
    "    with torch.no_grad():\n",
    "        correct = 0\n",
    "        total = 0\n",
    "        for inputs, targets in val_loader:\n",
    "            inputs, targets = Variable(inputs), Variable(targets)\n",
    "            inputs = inputs.unsqueeze(1)  # Add a channel dimension if needed\n",
    "            outputs = model(inputs)\n",
    "            targets = targets.unsqueeze(1)  # Ensure targets have the same shape as outputs\n",
    "            loss = criterion(outputs, targets)\n",
    "            running_val_loss.append(loss.item())\n",
    "\n",
    "            # Calculate validation accuracy\n",
    "            predicted = (outputs > 0.5).float()\n",
    "            total += targets.size(0)\n",
    "            correct += (predicted == targets).sum().item()\n",
    "    \n",
    "    accuracy = 100 * correct / total\n",
    "    avg_val_loss = np.mean(running_val_loss)\n",
    "    \n",
    "    # Print losses and accuracy for current epoch\n",
    "    print(f'Epoch {epoch+1}, Validation Accuracy: {accuracy}')\n",
    "    print(f\"Training Loss: {np.mean(running_loss):.4f}, Validation Loss: {avg_val_loss:.4f}\")\n",
    "    \n",
    "    # Store losses for plotting later\n",
    "    train_loss_history.append(np.mean(running_loss))\n",
    "    val_loss_history.append(avg_val_loss)\n",
    "\n",
    "    # Early Stopping logic\n",
    "    if accuracy > best_val_acc:\n",
    "        best_val_acc = accuracy  # Update the best validation accuracy\n",
    "        no_improvement_epochs = 0  # Reset the counter if there's improvement\n",
    "        torch.save(model.state_dict(), f\"{dir}/EEGNet_model.pth\")  # Save the best model\n",
    "    else:\n",
    "        no_improvement_epochs += 1\n",
    "\n",
    "    if no_improvement_epochs >= patience:\n",
    "        print(f\"Early stopping at epoch {epoch+1}\")\n",
    "        break  # Exit the training loop\n"
   ]
  },
  {
   "cell_type": "code",
   "execution_count": 18,
   "metadata": {},
   "outputs": [
    {
     "data": {
      "image/png": "[encoded data removed]",
      "text/plain": [
       "<Figure size 640x480 with 1 Axes>"
      ]
     },
     "metadata": {},
     "output_type": "display_data"
    }
   ],
   "source": [
    "# PLOTTING\n",
    "import matplotlib.pyplot as plt\n",
    "\n",
    "plt.plot(train_loss_history, label='Training Loss')\n",
    "plt.plot(val_loss_history, label='Validation Loss')\n",
    "plt.title('EEGNet - Training and Validation Loss')\n",
    "plt.xlabel('Epochs')\n",
    "plt.ylabel('Loss')\n",
    "plt.legend()\n",
    "plt.show()\n"
   ]
  },
  {
   "cell_type": "code",
   "execution_count": 73,
   "metadata": {},
   "outputs": [
    {
     "data": {
      "image/png": "[encoded data removed]",
      "text/plain": [
       "<Figure size 640x480 with 1 Axes>"
      ]
     },
     "metadata": {},
     "output_type": "display_data"
    }
   ],
   "source": [
    "# PLOTTING\n",
    "import matplotlib.pyplot as plt\n",
    "\n",
    "plt.plot(train_loss_history, label='Training Loss')\n",
    "plt.plot(val_loss_history, label='Validation Loss')\n",
    "plt.title('204,737 parameter CNN - Training and Validation Loss')\n",
    "plt.xlabel('Epochs')\n",
    "plt.ylabel('Loss')\n",
    "plt.legend()\n",
    "plt.show()"
   ]
  },
  {
   "cell_type": "code",
   "execution_count": null,
   "metadata": {},
   "outputs": [],
   "source": []
  }
 ],
 "metadata": {
  "kernelspec": {
   "display_name": "BACHELOR",
   "language": "python",
   "name": "python3"
  },
  "language_info": {
   "codemirror_mode": {
    "name": "ipython",
    "version": 3
   },
   "file_extension": ".py",
   "mimetype": "text/x-python",
   "name": "python",
   "nbconvert_exporter": "python",
   "pygments_lexer": "ipython3",
   "version": "3.12.5"
  }
 },
 "nbformat": 4,
 "nbformat_minor": 0
}
